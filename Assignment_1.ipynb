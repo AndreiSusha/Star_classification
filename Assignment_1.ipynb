{
 "cells": [
  {
   "cell_type": "code",
   "execution_count": 1,
   "metadata": {},
   "outputs": [],
   "source": [
    "import matplotlib.pyplot as plt\n",
    "import numpy as np\n",
    "import pandas as pd\n",
    "import seaborn as sns\n",
    "\n",
    "from sklearn import datasets\n",
    "from sklearn.model_selection import train_test_split , KFold\n",
    "from sklearn.neighbors import KNeighborsClassifier\n",
    "knn = KNeighborsClassifier(n_neighbors=5)\n"
   ]
  },
  {
   "cell_type": "markdown",
   "metadata": {},
   "source": [
    "## Creating dataframe"
   ]
  },
  {
   "cell_type": "code",
   "execution_count": 2,
   "metadata": {},
   "outputs": [
    {
     "data": {
      "text/html": [
       "<div>\n",
       "<style scoped>\n",
       "    .dataframe tbody tr th:only-of-type {\n",
       "        vertical-align: middle;\n",
       "    }\n",
       "\n",
       "    .dataframe tbody tr th {\n",
       "        vertical-align: top;\n",
       "    }\n",
       "\n",
       "    .dataframe thead th {\n",
       "        text-align: right;\n",
       "    }\n",
       "</style>\n",
       "<table border=\"1\" class=\"dataframe\">\n",
       "  <thead>\n",
       "    <tr style=\"text-align: right;\">\n",
       "      <th></th>\n",
       "      <th>obj_ID</th>\n",
       "      <th>alpha</th>\n",
       "      <th>delta</th>\n",
       "      <th>u</th>\n",
       "      <th>g</th>\n",
       "      <th>r</th>\n",
       "      <th>i</th>\n",
       "      <th>z</th>\n",
       "      <th>run_ID</th>\n",
       "      <th>rerun_ID</th>\n",
       "      <th>cam_col</th>\n",
       "      <th>field_ID</th>\n",
       "      <th>spec_obj_ID</th>\n",
       "      <th>class</th>\n",
       "      <th>redshift</th>\n",
       "      <th>plate</th>\n",
       "      <th>MJD</th>\n",
       "      <th>fiber_ID</th>\n",
       "    </tr>\n",
       "  </thead>\n",
       "  <tbody>\n",
       "    <tr>\n",
       "      <th>0</th>\n",
       "      <td>1.237661e+18</td>\n",
       "      <td>135.689107</td>\n",
       "      <td>32.494632</td>\n",
       "      <td>23.87882</td>\n",
       "      <td>22.27530</td>\n",
       "      <td>20.39501</td>\n",
       "      <td>19.16573</td>\n",
       "      <td>18.79371</td>\n",
       "      <td>3606</td>\n",
       "      <td>301</td>\n",
       "      <td>2</td>\n",
       "      <td>79</td>\n",
       "      <td>6.543777e+18</td>\n",
       "      <td>GALAXY</td>\n",
       "      <td>0.634794</td>\n",
       "      <td>5812</td>\n",
       "      <td>56354</td>\n",
       "      <td>171</td>\n",
       "    </tr>\n",
       "    <tr>\n",
       "      <th>1</th>\n",
       "      <td>1.237665e+18</td>\n",
       "      <td>144.826101</td>\n",
       "      <td>31.274185</td>\n",
       "      <td>24.77759</td>\n",
       "      <td>22.83188</td>\n",
       "      <td>22.58444</td>\n",
       "      <td>21.16812</td>\n",
       "      <td>21.61427</td>\n",
       "      <td>4518</td>\n",
       "      <td>301</td>\n",
       "      <td>5</td>\n",
       "      <td>119</td>\n",
       "      <td>1.176014e+19</td>\n",
       "      <td>GALAXY</td>\n",
       "      <td>0.779136</td>\n",
       "      <td>10445</td>\n",
       "      <td>58158</td>\n",
       "      <td>427</td>\n",
       "    </tr>\n",
       "    <tr>\n",
       "      <th>2</th>\n",
       "      <td>1.237661e+18</td>\n",
       "      <td>142.188790</td>\n",
       "      <td>35.582444</td>\n",
       "      <td>25.26307</td>\n",
       "      <td>22.66389</td>\n",
       "      <td>20.60976</td>\n",
       "      <td>19.34857</td>\n",
       "      <td>18.94827</td>\n",
       "      <td>3606</td>\n",
       "      <td>301</td>\n",
       "      <td>2</td>\n",
       "      <td>120</td>\n",
       "      <td>5.152200e+18</td>\n",
       "      <td>GALAXY</td>\n",
       "      <td>0.644195</td>\n",
       "      <td>4576</td>\n",
       "      <td>55592</td>\n",
       "      <td>299</td>\n",
       "    </tr>\n",
       "    <tr>\n",
       "      <th>3</th>\n",
       "      <td>1.237663e+18</td>\n",
       "      <td>338.741038</td>\n",
       "      <td>-0.402828</td>\n",
       "      <td>22.13682</td>\n",
       "      <td>23.77656</td>\n",
       "      <td>21.61162</td>\n",
       "      <td>20.50454</td>\n",
       "      <td>19.25010</td>\n",
       "      <td>4192</td>\n",
       "      <td>301</td>\n",
       "      <td>3</td>\n",
       "      <td>214</td>\n",
       "      <td>1.030107e+19</td>\n",
       "      <td>GALAXY</td>\n",
       "      <td>0.932346</td>\n",
       "      <td>9149</td>\n",
       "      <td>58039</td>\n",
       "      <td>775</td>\n",
       "    </tr>\n",
       "    <tr>\n",
       "      <th>4</th>\n",
       "      <td>1.237680e+18</td>\n",
       "      <td>345.282593</td>\n",
       "      <td>21.183866</td>\n",
       "      <td>19.43718</td>\n",
       "      <td>17.58028</td>\n",
       "      <td>16.49747</td>\n",
       "      <td>15.97711</td>\n",
       "      <td>15.54461</td>\n",
       "      <td>8102</td>\n",
       "      <td>301</td>\n",
       "      <td>3</td>\n",
       "      <td>137</td>\n",
       "      <td>6.891865e+18</td>\n",
       "      <td>GALAXY</td>\n",
       "      <td>0.116123</td>\n",
       "      <td>6121</td>\n",
       "      <td>56187</td>\n",
       "      <td>842</td>\n",
       "    </tr>\n",
       "    <tr>\n",
       "      <th>...</th>\n",
       "      <td>...</td>\n",
       "      <td>...</td>\n",
       "      <td>...</td>\n",
       "      <td>...</td>\n",
       "      <td>...</td>\n",
       "      <td>...</td>\n",
       "      <td>...</td>\n",
       "      <td>...</td>\n",
       "      <td>...</td>\n",
       "      <td>...</td>\n",
       "      <td>...</td>\n",
       "      <td>...</td>\n",
       "      <td>...</td>\n",
       "      <td>...</td>\n",
       "      <td>...</td>\n",
       "      <td>...</td>\n",
       "      <td>...</td>\n",
       "      <td>...</td>\n",
       "    </tr>\n",
       "    <tr>\n",
       "      <th>99995</th>\n",
       "      <td>1.237679e+18</td>\n",
       "      <td>39.620709</td>\n",
       "      <td>-2.594074</td>\n",
       "      <td>22.16759</td>\n",
       "      <td>22.97586</td>\n",
       "      <td>21.90404</td>\n",
       "      <td>21.30548</td>\n",
       "      <td>20.73569</td>\n",
       "      <td>7778</td>\n",
       "      <td>301</td>\n",
       "      <td>2</td>\n",
       "      <td>581</td>\n",
       "      <td>1.055431e+19</td>\n",
       "      <td>GALAXY</td>\n",
       "      <td>0.000000</td>\n",
       "      <td>9374</td>\n",
       "      <td>57749</td>\n",
       "      <td>438</td>\n",
       "    </tr>\n",
       "    <tr>\n",
       "      <th>99996</th>\n",
       "      <td>1.237679e+18</td>\n",
       "      <td>29.493819</td>\n",
       "      <td>19.798874</td>\n",
       "      <td>22.69118</td>\n",
       "      <td>22.38628</td>\n",
       "      <td>20.45003</td>\n",
       "      <td>19.75759</td>\n",
       "      <td>19.41526</td>\n",
       "      <td>7917</td>\n",
       "      <td>301</td>\n",
       "      <td>1</td>\n",
       "      <td>289</td>\n",
       "      <td>8.586351e+18</td>\n",
       "      <td>GALAXY</td>\n",
       "      <td>0.404895</td>\n",
       "      <td>7626</td>\n",
       "      <td>56934</td>\n",
       "      <td>866</td>\n",
       "    </tr>\n",
       "    <tr>\n",
       "      <th>99997</th>\n",
       "      <td>1.237668e+18</td>\n",
       "      <td>224.587407</td>\n",
       "      <td>15.700707</td>\n",
       "      <td>21.16916</td>\n",
       "      <td>19.26997</td>\n",
       "      <td>18.20428</td>\n",
       "      <td>17.69034</td>\n",
       "      <td>17.35221</td>\n",
       "      <td>5314</td>\n",
       "      <td>301</td>\n",
       "      <td>4</td>\n",
       "      <td>308</td>\n",
       "      <td>3.112008e+18</td>\n",
       "      <td>GALAXY</td>\n",
       "      <td>0.143366</td>\n",
       "      <td>2764</td>\n",
       "      <td>54535</td>\n",
       "      <td>74</td>\n",
       "    </tr>\n",
       "    <tr>\n",
       "      <th>99998</th>\n",
       "      <td>1.237661e+18</td>\n",
       "      <td>212.268621</td>\n",
       "      <td>46.660365</td>\n",
       "      <td>25.35039</td>\n",
       "      <td>21.63757</td>\n",
       "      <td>19.91386</td>\n",
       "      <td>19.07254</td>\n",
       "      <td>18.62482</td>\n",
       "      <td>3650</td>\n",
       "      <td>301</td>\n",
       "      <td>4</td>\n",
       "      <td>131</td>\n",
       "      <td>7.601080e+18</td>\n",
       "      <td>GALAXY</td>\n",
       "      <td>0.455040</td>\n",
       "      <td>6751</td>\n",
       "      <td>56368</td>\n",
       "      <td>470</td>\n",
       "    </tr>\n",
       "    <tr>\n",
       "      <th>99999</th>\n",
       "      <td>1.237661e+18</td>\n",
       "      <td>196.896053</td>\n",
       "      <td>49.464643</td>\n",
       "      <td>22.62171</td>\n",
       "      <td>21.79745</td>\n",
       "      <td>20.60115</td>\n",
       "      <td>20.00959</td>\n",
       "      <td>19.28075</td>\n",
       "      <td>3650</td>\n",
       "      <td>301</td>\n",
       "      <td>4</td>\n",
       "      <td>60</td>\n",
       "      <td>8.343152e+18</td>\n",
       "      <td>GALAXY</td>\n",
       "      <td>0.542944</td>\n",
       "      <td>7410</td>\n",
       "      <td>57104</td>\n",
       "      <td>851</td>\n",
       "    </tr>\n",
       "  </tbody>\n",
       "</table>\n",
       "<p>100000 rows × 18 columns</p>\n",
       "</div>"
      ],
      "text/plain": [
       "             obj_ID       alpha      delta         u         g         r  \\\n",
       "0      1.237661e+18  135.689107  32.494632  23.87882  22.27530  20.39501   \n",
       "1      1.237665e+18  144.826101  31.274185  24.77759  22.83188  22.58444   \n",
       "2      1.237661e+18  142.188790  35.582444  25.26307  22.66389  20.60976   \n",
       "3      1.237663e+18  338.741038  -0.402828  22.13682  23.77656  21.61162   \n",
       "4      1.237680e+18  345.282593  21.183866  19.43718  17.58028  16.49747   \n",
       "...             ...         ...        ...       ...       ...       ...   \n",
       "99995  1.237679e+18   39.620709  -2.594074  22.16759  22.97586  21.90404   \n",
       "99996  1.237679e+18   29.493819  19.798874  22.69118  22.38628  20.45003   \n",
       "99997  1.237668e+18  224.587407  15.700707  21.16916  19.26997  18.20428   \n",
       "99998  1.237661e+18  212.268621  46.660365  25.35039  21.63757  19.91386   \n",
       "99999  1.237661e+18  196.896053  49.464643  22.62171  21.79745  20.60115   \n",
       "\n",
       "              i         z  run_ID  rerun_ID  cam_col  field_ID   spec_obj_ID  \\\n",
       "0      19.16573  18.79371    3606       301        2        79  6.543777e+18   \n",
       "1      21.16812  21.61427    4518       301        5       119  1.176014e+19   \n",
       "2      19.34857  18.94827    3606       301        2       120  5.152200e+18   \n",
       "3      20.50454  19.25010    4192       301        3       214  1.030107e+19   \n",
       "4      15.97711  15.54461    8102       301        3       137  6.891865e+18   \n",
       "...         ...       ...     ...       ...      ...       ...           ...   \n",
       "99995  21.30548  20.73569    7778       301        2       581  1.055431e+19   \n",
       "99996  19.75759  19.41526    7917       301        1       289  8.586351e+18   \n",
       "99997  17.69034  17.35221    5314       301        4       308  3.112008e+18   \n",
       "99998  19.07254  18.62482    3650       301        4       131  7.601080e+18   \n",
       "99999  20.00959  19.28075    3650       301        4        60  8.343152e+18   \n",
       "\n",
       "        class  redshift  plate    MJD  fiber_ID  \n",
       "0      GALAXY  0.634794   5812  56354       171  \n",
       "1      GALAXY  0.779136  10445  58158       427  \n",
       "2      GALAXY  0.644195   4576  55592       299  \n",
       "3      GALAXY  0.932346   9149  58039       775  \n",
       "4      GALAXY  0.116123   6121  56187       842  \n",
       "...       ...       ...    ...    ...       ...  \n",
       "99995  GALAXY  0.000000   9374  57749       438  \n",
       "99996  GALAXY  0.404895   7626  56934       866  \n",
       "99997  GALAXY  0.143366   2764  54535        74  \n",
       "99998  GALAXY  0.455040   6751  56368       470  \n",
       "99999  GALAXY  0.542944   7410  57104       851  \n",
       "\n",
       "[100000 rows x 18 columns]"
      ]
     },
     "execution_count": 2,
     "metadata": {},
     "output_type": "execute_result"
    }
   ],
   "source": [
    "# Importing datasets\n",
    "star = pd.read_csv(\"star_classification.csv\")\n",
    "star"
   ]
  },
  {
   "cell_type": "code",
   "execution_count": 3,
   "metadata": {},
   "outputs": [
    {
     "name": "stdout",
     "output_type": "stream",
     "text": [
      "<class 'pandas.core.frame.DataFrame'>\n",
      "RangeIndex: 100000 entries, 0 to 99999\n",
      "Data columns (total 18 columns):\n",
      " #   Column       Non-Null Count   Dtype  \n",
      "---  ------       --------------   -----  \n",
      " 0   obj_ID       100000 non-null  float64\n",
      " 1   alpha        100000 non-null  float64\n",
      " 2   delta        100000 non-null  float64\n",
      " 3   u            100000 non-null  float64\n",
      " 4   g            100000 non-null  float64\n",
      " 5   r            100000 non-null  float64\n",
      " 6   i            100000 non-null  float64\n",
      " 7   z            100000 non-null  float64\n",
      " 8   run_ID       100000 non-null  int64  \n",
      " 9   rerun_ID     100000 non-null  int64  \n",
      " 10  cam_col      100000 non-null  int64  \n",
      " 11  field_ID     100000 non-null  int64  \n",
      " 12  spec_obj_ID  100000 non-null  float64\n",
      " 13  class        100000 non-null  object \n",
      " 14  redshift     100000 non-null  float64\n",
      " 15  plate        100000 non-null  int64  \n",
      " 16  MJD          100000 non-null  int64  \n",
      " 17  fiber_ID     100000 non-null  int64  \n",
      "dtypes: float64(10), int64(7), object(1)\n",
      "memory usage: 13.7+ MB\n"
     ]
    }
   ],
   "source": [
    "# A rough overview of data\n",
    "star.info()"
   ]
  },
  {
   "cell_type": "code",
   "execution_count": 4,
   "metadata": {},
   "outputs": [
    {
     "data": {
      "text/plain": [
       "obj_ID         0\n",
       "alpha          0\n",
       "delta          0\n",
       "u              0\n",
       "g              0\n",
       "r              0\n",
       "i              0\n",
       "z              0\n",
       "run_ID         0\n",
       "rerun_ID       0\n",
       "cam_col        0\n",
       "field_ID       0\n",
       "spec_obj_ID    0\n",
       "class          0\n",
       "redshift       0\n",
       "plate          0\n",
       "MJD            0\n",
       "fiber_ID       0\n",
       "dtype: int64"
      ]
     },
     "execution_count": 4,
     "metadata": {},
     "output_type": "execute_result"
    }
   ],
   "source": [
    "# Checking if any values are null\n",
    "star.isnull(). sum()"
   ]
  },
  {
   "cell_type": "code",
   "execution_count": 5,
   "metadata": {},
   "outputs": [
    {
     "data": {
      "text/plain": [
       "obj_ID         float64\n",
       "alpha          float64\n",
       "delta          float64\n",
       "u              float64\n",
       "g              float64\n",
       "r              float64\n",
       "i              float64\n",
       "z              float64\n",
       "run_ID           int64\n",
       "rerun_ID         int64\n",
       "cam_col          int64\n",
       "field_ID         int64\n",
       "spec_obj_ID    float64\n",
       "class           object\n",
       "redshift       float64\n",
       "plate            int64\n",
       "MJD              int64\n",
       "fiber_ID         int64\n",
       "dtype: object"
      ]
     },
     "execution_count": 5,
     "metadata": {},
     "output_type": "execute_result"
    }
   ],
   "source": [
    "star.dtypes"
   ]
  },
  {
   "cell_type": "code",
   "execution_count": 6,
   "metadata": {},
   "outputs": [
    {
     "data": {
      "text/html": [
       "<div>\n",
       "<style scoped>\n",
       "    .dataframe tbody tr th:only-of-type {\n",
       "        vertical-align: middle;\n",
       "    }\n",
       "\n",
       "    .dataframe tbody tr th {\n",
       "        vertical-align: top;\n",
       "    }\n",
       "\n",
       "    .dataframe thead th {\n",
       "        text-align: right;\n",
       "    }\n",
       "</style>\n",
       "<table border=\"1\" class=\"dataframe\">\n",
       "  <thead>\n",
       "    <tr style=\"text-align: right;\">\n",
       "      <th></th>\n",
       "      <th>obj_ID</th>\n",
       "      <th>alpha</th>\n",
       "      <th>delta</th>\n",
       "      <th>u</th>\n",
       "      <th>g</th>\n",
       "      <th>r</th>\n",
       "      <th>i</th>\n",
       "      <th>z</th>\n",
       "      <th>run_ID</th>\n",
       "      <th>rerun_ID</th>\n",
       "      <th>cam_col</th>\n",
       "      <th>field_ID</th>\n",
       "      <th>spec_obj_ID</th>\n",
       "      <th>redshift</th>\n",
       "      <th>plate</th>\n",
       "      <th>MJD</th>\n",
       "      <th>fiber_ID</th>\n",
       "    </tr>\n",
       "  </thead>\n",
       "  <tbody>\n",
       "    <tr>\n",
       "      <th>count</th>\n",
       "      <td>1.000000e+05</td>\n",
       "      <td>100000.000000</td>\n",
       "      <td>100000.000000</td>\n",
       "      <td>100000.000000</td>\n",
       "      <td>100000.000000</td>\n",
       "      <td>100000.000000</td>\n",
       "      <td>100000.000000</td>\n",
       "      <td>100000.000000</td>\n",
       "      <td>100000.000000</td>\n",
       "      <td>100000.0</td>\n",
       "      <td>100000.000000</td>\n",
       "      <td>100000.000000</td>\n",
       "      <td>1.000000e+05</td>\n",
       "      <td>100000.000000</td>\n",
       "      <td>100000.000000</td>\n",
       "      <td>100000.000000</td>\n",
       "      <td>100000.000000</td>\n",
       "    </tr>\n",
       "    <tr>\n",
       "      <th>mean</th>\n",
       "      <td>1.237665e+18</td>\n",
       "      <td>177.629117</td>\n",
       "      <td>24.135305</td>\n",
       "      <td>21.980468</td>\n",
       "      <td>20.531387</td>\n",
       "      <td>19.645762</td>\n",
       "      <td>19.084854</td>\n",
       "      <td>18.668810</td>\n",
       "      <td>4481.366060</td>\n",
       "      <td>301.0</td>\n",
       "      <td>3.511610</td>\n",
       "      <td>186.130520</td>\n",
       "      <td>5.783882e+18</td>\n",
       "      <td>0.576661</td>\n",
       "      <td>5137.009660</td>\n",
       "      <td>55588.647500</td>\n",
       "      <td>449.312740</td>\n",
       "    </tr>\n",
       "    <tr>\n",
       "      <th>std</th>\n",
       "      <td>8.438560e+12</td>\n",
       "      <td>96.502241</td>\n",
       "      <td>19.644665</td>\n",
       "      <td>31.769291</td>\n",
       "      <td>31.750292</td>\n",
       "      <td>1.854760</td>\n",
       "      <td>1.757895</td>\n",
       "      <td>31.728152</td>\n",
       "      <td>1964.764593</td>\n",
       "      <td>0.0</td>\n",
       "      <td>1.586912</td>\n",
       "      <td>149.011073</td>\n",
       "      <td>3.324016e+18</td>\n",
       "      <td>0.730707</td>\n",
       "      <td>2952.303351</td>\n",
       "      <td>1808.484233</td>\n",
       "      <td>272.498404</td>\n",
       "    </tr>\n",
       "    <tr>\n",
       "      <th>min</th>\n",
       "      <td>1.237646e+18</td>\n",
       "      <td>0.005528</td>\n",
       "      <td>-18.785328</td>\n",
       "      <td>-9999.000000</td>\n",
       "      <td>-9999.000000</td>\n",
       "      <td>9.822070</td>\n",
       "      <td>9.469903</td>\n",
       "      <td>-9999.000000</td>\n",
       "      <td>109.000000</td>\n",
       "      <td>301.0</td>\n",
       "      <td>1.000000</td>\n",
       "      <td>11.000000</td>\n",
       "      <td>2.995191e+17</td>\n",
       "      <td>-0.009971</td>\n",
       "      <td>266.000000</td>\n",
       "      <td>51608.000000</td>\n",
       "      <td>1.000000</td>\n",
       "    </tr>\n",
       "    <tr>\n",
       "      <th>25%</th>\n",
       "      <td>1.237659e+18</td>\n",
       "      <td>127.518222</td>\n",
       "      <td>5.146771</td>\n",
       "      <td>20.352353</td>\n",
       "      <td>18.965230</td>\n",
       "      <td>18.135828</td>\n",
       "      <td>17.732285</td>\n",
       "      <td>17.460677</td>\n",
       "      <td>3187.000000</td>\n",
       "      <td>301.0</td>\n",
       "      <td>2.000000</td>\n",
       "      <td>82.000000</td>\n",
       "      <td>2.844138e+18</td>\n",
       "      <td>0.054517</td>\n",
       "      <td>2526.000000</td>\n",
       "      <td>54234.000000</td>\n",
       "      <td>221.000000</td>\n",
       "    </tr>\n",
       "    <tr>\n",
       "      <th>50%</th>\n",
       "      <td>1.237663e+18</td>\n",
       "      <td>180.900700</td>\n",
       "      <td>23.645922</td>\n",
       "      <td>22.179135</td>\n",
       "      <td>21.099835</td>\n",
       "      <td>20.125290</td>\n",
       "      <td>19.405145</td>\n",
       "      <td>19.004595</td>\n",
       "      <td>4188.000000</td>\n",
       "      <td>301.0</td>\n",
       "      <td>4.000000</td>\n",
       "      <td>146.000000</td>\n",
       "      <td>5.614883e+18</td>\n",
       "      <td>0.424173</td>\n",
       "      <td>4987.000000</td>\n",
       "      <td>55868.500000</td>\n",
       "      <td>433.000000</td>\n",
       "    </tr>\n",
       "    <tr>\n",
       "      <th>75%</th>\n",
       "      <td>1.237668e+18</td>\n",
       "      <td>233.895005</td>\n",
       "      <td>39.901550</td>\n",
       "      <td>23.687440</td>\n",
       "      <td>22.123767</td>\n",
       "      <td>21.044785</td>\n",
       "      <td>20.396495</td>\n",
       "      <td>19.921120</td>\n",
       "      <td>5326.000000</td>\n",
       "      <td>301.0</td>\n",
       "      <td>5.000000</td>\n",
       "      <td>241.000000</td>\n",
       "      <td>8.332144e+18</td>\n",
       "      <td>0.704154</td>\n",
       "      <td>7400.250000</td>\n",
       "      <td>56777.000000</td>\n",
       "      <td>645.000000</td>\n",
       "    </tr>\n",
       "    <tr>\n",
       "      <th>max</th>\n",
       "      <td>1.237681e+18</td>\n",
       "      <td>359.999810</td>\n",
       "      <td>83.000519</td>\n",
       "      <td>32.781390</td>\n",
       "      <td>31.602240</td>\n",
       "      <td>29.571860</td>\n",
       "      <td>32.141470</td>\n",
       "      <td>29.383740</td>\n",
       "      <td>8162.000000</td>\n",
       "      <td>301.0</td>\n",
       "      <td>6.000000</td>\n",
       "      <td>989.000000</td>\n",
       "      <td>1.412694e+19</td>\n",
       "      <td>7.011245</td>\n",
       "      <td>12547.000000</td>\n",
       "      <td>58932.000000</td>\n",
       "      <td>1000.000000</td>\n",
       "    </tr>\n",
       "  </tbody>\n",
       "</table>\n",
       "</div>"
      ],
      "text/plain": [
       "             obj_ID          alpha          delta              u  \\\n",
       "count  1.000000e+05  100000.000000  100000.000000  100000.000000   \n",
       "mean   1.237665e+18     177.629117      24.135305      21.980468   \n",
       "std    8.438560e+12      96.502241      19.644665      31.769291   \n",
       "min    1.237646e+18       0.005528     -18.785328   -9999.000000   \n",
       "25%    1.237659e+18     127.518222       5.146771      20.352353   \n",
       "50%    1.237663e+18     180.900700      23.645922      22.179135   \n",
       "75%    1.237668e+18     233.895005      39.901550      23.687440   \n",
       "max    1.237681e+18     359.999810      83.000519      32.781390   \n",
       "\n",
       "                   g              r              i              z  \\\n",
       "count  100000.000000  100000.000000  100000.000000  100000.000000   \n",
       "mean       20.531387      19.645762      19.084854      18.668810   \n",
       "std        31.750292       1.854760       1.757895      31.728152   \n",
       "min     -9999.000000       9.822070       9.469903   -9999.000000   \n",
       "25%        18.965230      18.135828      17.732285      17.460677   \n",
       "50%        21.099835      20.125290      19.405145      19.004595   \n",
       "75%        22.123767      21.044785      20.396495      19.921120   \n",
       "max        31.602240      29.571860      32.141470      29.383740   \n",
       "\n",
       "              run_ID  rerun_ID        cam_col       field_ID   spec_obj_ID  \\\n",
       "count  100000.000000  100000.0  100000.000000  100000.000000  1.000000e+05   \n",
       "mean     4481.366060     301.0       3.511610     186.130520  5.783882e+18   \n",
       "std      1964.764593       0.0       1.586912     149.011073  3.324016e+18   \n",
       "min       109.000000     301.0       1.000000      11.000000  2.995191e+17   \n",
       "25%      3187.000000     301.0       2.000000      82.000000  2.844138e+18   \n",
       "50%      4188.000000     301.0       4.000000     146.000000  5.614883e+18   \n",
       "75%      5326.000000     301.0       5.000000     241.000000  8.332144e+18   \n",
       "max      8162.000000     301.0       6.000000     989.000000  1.412694e+19   \n",
       "\n",
       "            redshift          plate            MJD       fiber_ID  \n",
       "count  100000.000000  100000.000000  100000.000000  100000.000000  \n",
       "mean        0.576661    5137.009660   55588.647500     449.312740  \n",
       "std         0.730707    2952.303351    1808.484233     272.498404  \n",
       "min        -0.009971     266.000000   51608.000000       1.000000  \n",
       "25%         0.054517    2526.000000   54234.000000     221.000000  \n",
       "50%         0.424173    4987.000000   55868.500000     433.000000  \n",
       "75%         0.704154    7400.250000   56777.000000     645.000000  \n",
       "max         7.011245   12547.000000   58932.000000    1000.000000  "
      ]
     },
     "execution_count": 6,
     "metadata": {},
     "output_type": "execute_result"
    }
   ],
   "source": [
    "star.describe()"
   ]
  },
  {
   "cell_type": "code",
   "execution_count": 7,
   "metadata": {},
   "outputs": [
    {
     "data": {
      "text/plain": [
       "3"
      ]
     },
     "execution_count": 7,
     "metadata": {},
     "output_type": "execute_result"
    }
   ],
   "source": [
    "star['class'].nunique()"
   ]
  },
  {
   "cell_type": "code",
   "execution_count": 8,
   "metadata": {},
   "outputs": [
    {
     "data": {
      "text/plain": [
       "array(['GALAXY', 'QSO', 'STAR'], dtype=object)"
      ]
     },
     "execution_count": 8,
     "metadata": {},
     "output_type": "execute_result"
    }
   ],
   "source": [
    "star['class'].unique()"
   ]
  },
  {
   "cell_type": "code",
   "execution_count": 9,
   "metadata": {},
   "outputs": [
    {
     "data": {
      "text/plain": [
       "class\n",
       "GALAXY    59445\n",
       "STAR      21594\n",
       "QSO       18961\n",
       "Name: count, dtype: int64"
      ]
     },
     "execution_count": 9,
     "metadata": {},
     "output_type": "execute_result"
    }
   ],
   "source": [
    "star[\"class\"].value_counts()"
   ]
  },
  {
   "cell_type": "code",
   "execution_count": 10,
   "metadata": {},
   "outputs": [
    {
     "name": "stdout",
     "output_type": "stream",
     "text": [
      "Total percentage of Galaxies : 59.4%\n",
      "Total percentage of Stars : 21.6%\n",
      "Total percentage of QSO : 19.0%\n"
     ]
    }
   ],
   "source": [
    "a, b, c = star[\"class\"].value_counts() / len(star)\n",
    "print(f\"Total percentage of Galaxies : {round(a*100, 1)}%\")\n",
    "print(f\"Total percentage of Stars : {round(b*100, 1)}%\")\n",
    "print(f\"Total percentage of QSO : {round(c*100, 1)}%\")"
   ]
  },
  {
   "cell_type": "markdown",
   "metadata": {},
   "source": [
    "## Data Visualization"
   ]
  },
  {
   "cell_type": "code",
   "execution_count": 11,
   "metadata": {},
   "outputs": [
    {
     "name": "stderr",
     "output_type": "stream",
     "text": [
      "/Library/Frameworks/Python.framework/Versions/3.10/lib/python3.10/site-packages/seaborn/_oldcore.py:1498: FutureWarning: is_categorical_dtype is deprecated and will be removed in a future version. Use isinstance(dtype, CategoricalDtype) instead\n",
      "  if pd.api.types.is_categorical_dtype(vector):\n",
      "/Library/Frameworks/Python.framework/Versions/3.10/lib/python3.10/site-packages/seaborn/_oldcore.py:1498: FutureWarning: is_categorical_dtype is deprecated and will be removed in a future version. Use isinstance(dtype, CategoricalDtype) instead\n",
      "  if pd.api.types.is_categorical_dtype(vector):\n",
      "/Library/Frameworks/Python.framework/Versions/3.10/lib/python3.10/site-packages/seaborn/_oldcore.py:1498: FutureWarning: is_categorical_dtype is deprecated and will be removed in a future version. Use isinstance(dtype, CategoricalDtype) instead\n",
      "  if pd.api.types.is_categorical_dtype(vector):\n"
     ]
    },
    {
     "data": {
      "image/png": "[encoded data removed]",
      "text/plain": [
       "<Figure size 640x480 with 1 Axes>"
      ]
     },
     "metadata": {},
     "output_type": "display_data"
    }
   ],
   "source": [
    "# Visualizing object class distribution\n",
    "sns.countplot(x='class', data=star)\n",
    "plt.xlabel('Object Class')\n",
    "plt.ylabel('Count')\n",
    "plt.title('Object Class Distribution')\n",
    "plt.show()"
   ]
  },
  {
   "cell_type": "code",
   "execution_count": 12,
   "metadata": {},
   "outputs": [
    {
     "data": {
      "image/png": "[encoded data removed]",
      "text/plain": [
       "<Figure size 1400x1400 with 20 Axes>"
      ]
     },
     "metadata": {},
     "output_type": "display_data"
    }
   ],
   "source": [
    "star.hist(bins =25 , figsize= (14,14), color=\"midnightblue\")\n",
    "plt.show()"
   ]
  },
  {
   "cell_type": "markdown",
   "metadata": {},
   "source": [
    "## Feature Selection"
   ]
  },
  {
   "cell_type": "code",
   "execution_count": 13,
   "metadata": {},
   "outputs": [
    {
     "data": {
      "text/html": [
       "<div>\n",
       "<style scoped>\n",
       "    .dataframe tbody tr th:only-of-type {\n",
       "        vertical-align: middle;\n",
       "    }\n",
       "\n",
       "    .dataframe tbody tr th {\n",
       "        vertical-align: top;\n",
       "    }\n",
       "\n",
       "    .dataframe thead th {\n",
       "        text-align: right;\n",
       "    }\n",
       "</style>\n",
       "<table border=\"1\" class=\"dataframe\">\n",
       "  <thead>\n",
       "    <tr style=\"text-align: right;\">\n",
       "      <th></th>\n",
       "      <th>u</th>\n",
       "      <th>g</th>\n",
       "      <th>r</th>\n",
       "      <th>i</th>\n",
       "      <th>z</th>\n",
       "      <th>redshift</th>\n",
       "      <th>plate</th>\n",
       "    </tr>\n",
       "  </thead>\n",
       "  <tbody>\n",
       "    <tr>\n",
       "      <th>0</th>\n",
       "      <td>23.87882</td>\n",
       "      <td>22.27530</td>\n",
       "      <td>20.39501</td>\n",
       "      <td>19.16573</td>\n",
       "      <td>18.79371</td>\n",
       "      <td>0.634794</td>\n",
       "      <td>5812</td>\n",
       "    </tr>\n",
       "    <tr>\n",
       "      <th>1</th>\n",
       "      <td>24.77759</td>\n",
       "      <td>22.83188</td>\n",
       "      <td>22.58444</td>\n",
       "      <td>21.16812</td>\n",
       "      <td>21.61427</td>\n",
       "      <td>0.779136</td>\n",
       "      <td>10445</td>\n",
       "    </tr>\n",
       "    <tr>\n",
       "      <th>2</th>\n",
       "      <td>25.26307</td>\n",
       "      <td>22.66389</td>\n",
       "      <td>20.60976</td>\n",
       "      <td>19.34857</td>\n",
       "      <td>18.94827</td>\n",
       "      <td>0.644195</td>\n",
       "      <td>4576</td>\n",
       "    </tr>\n",
       "    <tr>\n",
       "      <th>3</th>\n",
       "      <td>22.13682</td>\n",
       "      <td>23.77656</td>\n",
       "      <td>21.61162</td>\n",
       "      <td>20.50454</td>\n",
       "      <td>19.25010</td>\n",
       "      <td>0.932346</td>\n",
       "      <td>9149</td>\n",
       "    </tr>\n",
       "    <tr>\n",
       "      <th>4</th>\n",
       "      <td>19.43718</td>\n",
       "      <td>17.58028</td>\n",
       "      <td>16.49747</td>\n",
       "      <td>15.97711</td>\n",
       "      <td>15.54461</td>\n",
       "      <td>0.116123</td>\n",
       "      <td>6121</td>\n",
       "    </tr>\n",
       "    <tr>\n",
       "      <th>...</th>\n",
       "      <td>...</td>\n",
       "      <td>...</td>\n",
       "      <td>...</td>\n",
       "      <td>...</td>\n",
       "      <td>...</td>\n",
       "      <td>...</td>\n",
       "      <td>...</td>\n",
       "    </tr>\n",
       "    <tr>\n",
       "      <th>99995</th>\n",
       "      <td>22.16759</td>\n",
       "      <td>22.97586</td>\n",
       "      <td>21.90404</td>\n",
       "      <td>21.30548</td>\n",
       "      <td>20.73569</td>\n",
       "      <td>0.000000</td>\n",
       "      <td>9374</td>\n",
       "    </tr>\n",
       "    <tr>\n",
       "      <th>99996</th>\n",
       "      <td>22.69118</td>\n",
       "      <td>22.38628</td>\n",
       "      <td>20.45003</td>\n",
       "      <td>19.75759</td>\n",
       "      <td>19.41526</td>\n",
       "      <td>0.404895</td>\n",
       "      <td>7626</td>\n",
       "    </tr>\n",
       "    <tr>\n",
       "      <th>99997</th>\n",
       "      <td>21.16916</td>\n",
       "      <td>19.26997</td>\n",
       "      <td>18.20428</td>\n",
       "      <td>17.69034</td>\n",
       "      <td>17.35221</td>\n",
       "      <td>0.143366</td>\n",
       "      <td>2764</td>\n",
       "    </tr>\n",
       "    <tr>\n",
       "      <th>99998</th>\n",
       "      <td>25.35039</td>\n",
       "      <td>21.63757</td>\n",
       "      <td>19.91386</td>\n",
       "      <td>19.07254</td>\n",
       "      <td>18.62482</td>\n",
       "      <td>0.455040</td>\n",
       "      <td>6751</td>\n",
       "    </tr>\n",
       "    <tr>\n",
       "      <th>99999</th>\n",
       "      <td>22.62171</td>\n",
       "      <td>21.79745</td>\n",
       "      <td>20.60115</td>\n",
       "      <td>20.00959</td>\n",
       "      <td>19.28075</td>\n",
       "      <td>0.542944</td>\n",
       "      <td>7410</td>\n",
       "    </tr>\n",
       "  </tbody>\n",
       "</table>\n",
       "<p>100000 rows × 7 columns</p>\n",
       "</div>"
      ],
      "text/plain": [
       "              u         g         r         i         z  redshift  plate\n",
       "0      23.87882  22.27530  20.39501  19.16573  18.79371  0.634794   5812\n",
       "1      24.77759  22.83188  22.58444  21.16812  21.61427  0.779136  10445\n",
       "2      25.26307  22.66389  20.60976  19.34857  18.94827  0.644195   4576\n",
       "3      22.13682  23.77656  21.61162  20.50454  19.25010  0.932346   9149\n",
       "4      19.43718  17.58028  16.49747  15.97711  15.54461  0.116123   6121\n",
       "...         ...       ...       ...       ...       ...       ...    ...\n",
       "99995  22.16759  22.97586  21.90404  21.30548  20.73569  0.000000   9374\n",
       "99996  22.69118  22.38628  20.45003  19.75759  19.41526  0.404895   7626\n",
       "99997  21.16916  19.26997  18.20428  17.69034  17.35221  0.143366   2764\n",
       "99998  25.35039  21.63757  19.91386  19.07254  18.62482  0.455040   6751\n",
       "99999  22.62171  21.79745  20.60115  20.00959  19.28075  0.542944   7410\n",
       "\n",
       "[100000 rows x 7 columns]"
      ]
     },
     "execution_count": 13,
     "metadata": {},
     "output_type": "execute_result"
    }
   ],
   "source": [
    "X = star[['u', 'g', 'r', 'i', 'z', 'redshift', 'plate']]\n",
    "X"
   ]
  },
  {
   "cell_type": "code",
   "execution_count": 14,
   "metadata": {},
   "outputs": [
    {
     "data": {
      "text/plain": [
       "0        GALAXY\n",
       "1        GALAXY\n",
       "2        GALAXY\n",
       "3        GALAXY\n",
       "4        GALAXY\n",
       "          ...  \n",
       "99995    GALAXY\n",
       "99996    GALAXY\n",
       "99997    GALAXY\n",
       "99998    GALAXY\n",
       "99999    GALAXY\n",
       "Name: class, Length: 100000, dtype: object"
      ]
     },
     "execution_count": 14,
     "metadata": {},
     "output_type": "execute_result"
    }
   ],
   "source": [
    "y = star['class']\n",
    "y"
   ]
  },
  {
   "cell_type": "markdown",
   "metadata": {},
   "source": [
    "## Resampling"
   ]
  },
  {
   "cell_type": "code",
   "execution_count": 15,
   "metadata": {},
   "outputs": [],
   "source": [
    "from imblearn.over_sampling import SMOTE\n",
    "sm = SMOTE(random_state = 30, k_neighbors = 10)\n",
    "X_res, y_res = sm.fit_resample(X, y)"
   ]
  },
  {
   "cell_type": "code",
   "execution_count": 16,
   "metadata": {},
   "outputs": [
    {
     "data": {
      "text/plain": [
       "class\n",
       "GALAXY    59445\n",
       "STAR      21594\n",
       "QSO       18961\n",
       "Name: count, dtype: int64"
      ]
     },
     "execution_count": 16,
     "metadata": {},
     "output_type": "execute_result"
    }
   ],
   "source": [
    "y.value_counts()"
   ]
  },
  {
   "cell_type": "code",
   "execution_count": 17,
   "metadata": {},
   "outputs": [
    {
     "data": {
      "text/plain": [
       "class\n",
       "GALAXY    59445\n",
       "QSO       59445\n",
       "STAR      59445\n",
       "Name: count, dtype: int64"
      ]
     },
     "execution_count": 17,
     "metadata": {},
     "output_type": "execute_result"
    }
   ],
   "source": [
    "y_res.value_counts()"
   ]
  },
  {
   "cell_type": "markdown",
   "metadata": {},
   "source": [
    "## Splitting Dataset"
   ]
  },
  {
   "cell_type": "code",
   "execution_count": 18,
   "metadata": {},
   "outputs": [],
   "source": [
    "from sklearn.model_selection import train_test_split\n",
    "X_train, X_test, y_train, y_test = train_test_split(X, y, test_size=0.25, shuffle= True, random_state = 30)"
   ]
  },
  {
   "cell_type": "code",
   "execution_count": 19,
   "metadata": {},
   "outputs": [
    {
     "data": {
      "text/plain": [
       "75000"
      ]
     },
     "execution_count": 19,
     "metadata": {},
     "output_type": "execute_result"
    }
   ],
   "source": [
    "len(X_train)"
   ]
  },
  {
   "cell_type": "code",
   "execution_count": 20,
   "metadata": {},
   "outputs": [
    {
     "data": {
      "text/plain": [
       "25000"
      ]
     },
     "execution_count": 20,
     "metadata": {},
     "output_type": "execute_result"
    }
   ],
   "source": [
    "len(X_test)"
   ]
  },
  {
   "cell_type": "code",
   "execution_count": 21,
   "metadata": {},
   "outputs": [
    {
     "data": {
      "text/html": [
       "<style>#sk-container-id-1 {color: black;}#sk-container-id-1 pre{padding: 0;}#sk-container-id-1 div.sk-toggleable {background-color: white;}#sk-container-id-1 label.sk-toggleable__label {cursor: pointer;display: block;width: 100%;margin-bottom: 0;padding: 0.3em;box-sizing: border-box;text-align: center;}#sk-container-id-1 label.sk-toggleable__label-arrow:before {content: \"▸\";float: left;margin-right: 0.25em;color: #696969;}#sk-container-id-1 label.sk-toggleable__label-arrow:hover:before {color: black;}#sk-container-id-1 div.sk-estimator:hover label.sk-toggleable__label-arrow:before {color: black;}#sk-container-id-1 div.sk-toggleable__content {max-height: 0;max-width: 0;overflow: hidden;text-align: left;background-color: #f0f8ff;}#sk-container-id-1 div.sk-toggleable__content pre {margin: 0.2em;color: black;border-radius: 0.25em;background-color: #f0f8ff;}#sk-container-id-1 input.sk-toggleable__control:checked~div.sk-toggleable__content {max-height: 200px;max-width: 100%;overflow: auto;}#sk-container-id-1 input.sk-toggleable__control:checked~label.sk-toggleable__label-arrow:before {content: \"▾\";}#sk-container-id-1 div.sk-estimator input.sk-toggleable__control:checked~label.sk-toggleable__label {background-color: #d4ebff;}#sk-container-id-1 div.sk-label input.sk-toggleable__control:checked~label.sk-toggleable__label {background-color: #d4ebff;}#sk-container-id-1 input.sk-hidden--visually {border: 0;clip: rect(1px 1px 1px 1px);clip: rect(1px, 1px, 1px, 1px);height: 1px;margin: -1px;overflow: hidden;padding: 0;position: absolute;width: 1px;}#sk-container-id-1 div.sk-estimator {font-family: monospace;background-color: #f0f8ff;border: 1px dotted black;border-radius: 0.25em;box-sizing: border-box;margin-bottom: 0.5em;}#sk-container-id-1 div.sk-estimator:hover {background-color: #d4ebff;}#sk-container-id-1 div.sk-parallel-item::after {content: \"\";width: 100%;border-bottom: 1px solid gray;flex-grow: 1;}#sk-container-id-1 div.sk-label:hover label.sk-toggleable__label {background-color: #d4ebff;}#sk-container-id-1 div.sk-serial::before {content: \"\";position: absolute;border-left: 1px solid gray;box-sizing: border-box;top: 0;bottom: 0;left: 50%;z-index: 0;}#sk-container-id-1 div.sk-serial {display: flex;flex-direction: column;align-items: center;background-color: white;padding-right: 0.2em;padding-left: 0.2em;position: relative;}#sk-container-id-1 div.sk-item {position: relative;z-index: 1;}#sk-container-id-1 div.sk-parallel {display: flex;align-items: stretch;justify-content: center;background-color: white;position: relative;}#sk-container-id-1 div.sk-item::before, #sk-container-id-1 div.sk-parallel-item::before {content: \"\";position: absolute;border-left: 1px solid gray;box-sizing: border-box;top: 0;bottom: 0;left: 50%;z-index: -1;}#sk-container-id-1 div.sk-parallel-item {display: flex;flex-direction: column;z-index: 1;position: relative;background-color: white;}#sk-container-id-1 div.sk-parallel-item:first-child::after {align-self: flex-end;width: 50%;}#sk-container-id-1 div.sk-parallel-item:last-child::after {align-self: flex-start;width: 50%;}#sk-container-id-1 div.sk-parallel-item:only-child::after {width: 0;}#sk-container-id-1 div.sk-dashed-wrapped {border: 1px dashed gray;margin: 0 0.4em 0.5em 0.4em;box-sizing: border-box;padding-bottom: 0.4em;background-color: white;}#sk-container-id-1 div.sk-label label {font-family: monospace;font-weight: bold;display: inline-block;line-height: 1.2em;}#sk-container-id-1 div.sk-label-container {text-align: center;}#sk-container-id-1 div.sk-container {/* jupyter's `normalize.less` sets `[hidden] { display: none; }` but bootstrap.min.css set `[hidden] { display: none !important; }` so we also need the `!important` here to be able to override the default hidden behavior on the sphinx rendered scikit-learn.org. See: https://github.com/scikit-learn/scikit-learn/issues/21755 */display: inline-block !important;position: relative;}#sk-container-id-1 div.sk-text-repr-fallback {display: none;}</style><div id=\"sk-container-id-1\" class=\"sk-top-container\"><div class=\"sk-text-repr-fallback\"><pre>KNeighborsClassifier()</pre><b>In a Jupyter environment, please rerun this cell to show the HTML representation or trust the notebook. <br />On GitHub, the HTML representation is unable to render, please try loading this page with nbviewer.org.</b></div><div class=\"sk-container\" hidden><div class=\"sk-item\"><div class=\"sk-estimator sk-toggleable\"><input class=\"sk-toggleable__control sk-hidden--visually\" id=\"sk-estimator-id-1\" type=\"checkbox\" checked><label for=\"sk-estimator-id-1\" class=\"sk-toggleable__label sk-toggleable__label-arrow\">KNeighborsClassifier</label><div class=\"sk-toggleable__content\"><pre>KNeighborsClassifier()</pre></div></div></div></div></div>"
      ],
      "text/plain": [
       "KNeighborsClassifier()"
      ]
     },
     "execution_count": 21,
     "metadata": {},
     "output_type": "execute_result"
    }
   ],
   "source": [
    "knn.fit(X_train, y_train)"
   ]
  },
  {
   "cell_type": "code",
   "execution_count": 22,
   "metadata": {},
   "outputs": [
    {
     "data": {
      "text/plain": [
       "0.85216"
      ]
     },
     "execution_count": 22,
     "metadata": {},
     "output_type": "execute_result"
    }
   ],
   "source": [
    "knn.score(X_test, y_test)"
   ]
  },
  {
   "cell_type": "code",
   "execution_count": 23,
   "metadata": {},
   "outputs": [
    {
     "name": "stdout",
     "output_type": "stream",
     "text": [
      "k=3: Accuracy = 0.86\n",
      "k=5: Accuracy = 0.85\n",
      "k=7: Accuracy = 0.85\n",
      "k=9: Accuracy = 0.84\n",
      "k=11: Accuracy = 0.83\n"
     ]
    }
   ],
   "source": [
    "# Experiment with different values of k\n",
    "from sklearn.metrics import accuracy_score\n",
    "k_values = [3, 5, 7, 9, 11]\n",
    "for k in k_values:\n",
    "    knn = KNeighborsClassifier(n_neighbors=k)\n",
    "    knn.fit(X_train, y_train)\n",
    "    y_pred = knn.predict(X_test)\n",
    "    accuracy = accuracy_score(y_test, y_pred)\n",
    "    print(f\"k={k}: Accuracy = {accuracy:.2f}\")"
   ]
  }
 ],
 "metadata": {
  "kernelspec": {
   "display_name": "Python 3",
   "language": "python",
   "name": "python3"
  },
  "language_info": {
   "codemirror_mode": {
    "name": "ipython",
    "version": 3
   },
   "file_extension": ".py",
   "mimetype": "text/x-python",
   "name": "python",
   "nbconvert_exporter": "python",
   "pygments_lexer": "ipython3",
   "version": "3.10.4"
  }
 },
 "nbformat": 4,
 "nbformat_minor": 2
}
